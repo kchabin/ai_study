{
  "nbformat": 4,
  "nbformat_minor": 0,
  "metadata": {
    "colab": {
      "provenance": [],
      "authorship_tag": "ABX9TyNYvfbDWvKll0R/CDnbkApQ",
      "include_colab_link": true
    },
    "kernelspec": {
      "name": "python3",
      "display_name": "Python 3"
    },
    "language_info": {
      "name": "python"
    }
  },
  "cells": [
    {
      "cell_type": "markdown",
      "metadata": {
        "id": "view-in-github",
        "colab_type": "text"
      },
      "source": [
        "<a href=\"https://colab.research.google.com/github/kchabin/ai_study/blob/main/langchain_agent.ipynb\" target=\"_parent\"><img src=\"https://colab.research.google.com/assets/colab-badge.svg\" alt=\"Open In Colab\"/></a>"
      ]
    },
    {
      "cell_type": "code",
      "execution_count": 3,
      "metadata": {
        "colab": {
          "base_uri": "https://localhost:8080/"
        },
        "id": "HFEWCgV2eJlH",
        "outputId": "80a043e3-4cc2-4635-ff09-518d3c0d107f"
      },
      "outputs": [
        {
          "output_type": "stream",
          "name": "stdout",
          "text": [
            "Collecting langchain-community\n",
            "  Downloading langchain_community-0.3.21-py3-none-any.whl.metadata (2.4 kB)\n",
            "Collecting langgraph\n",
            "  Downloading langgraph-0.3.28-py3-none-any.whl.metadata (7.7 kB)\n",
            "Collecting langchain-anthropic\n",
            "  Downloading langchain_anthropic-0.3.10-py3-none-any.whl.metadata (1.9 kB)\n",
            "Collecting tavily-python\n",
            "  Downloading tavily_python-0.5.4-py3-none-any.whl.metadata (91 kB)\n",
            "\u001b[2K     \u001b[90m━━━━━━━━━━━━━━━━━━━━━━━━━━━━━━━━━━━━━━━━\u001b[0m \u001b[32m91.6/91.6 kB\u001b[0m \u001b[31m3.1 MB/s\u001b[0m eta \u001b[36m0:00:00\u001b[0m\n",
            "\u001b[?25hCollecting langgraph-checkpoint-sqlite\n",
            "  Downloading langgraph_checkpoint_sqlite-2.0.6-py3-none-any.whl.metadata (3.0 kB)\n",
            "Requirement already satisfied: langchain-core<1.0.0,>=0.3.51 in /usr/local/lib/python3.11/dist-packages (from langchain-community) (0.3.51)\n",
            "Requirement already satisfied: langchain<1.0.0,>=0.3.23 in /usr/local/lib/python3.11/dist-packages (from langchain-community) (0.3.23)\n",
            "Requirement already satisfied: SQLAlchemy<3,>=1.4 in /usr/local/lib/python3.11/dist-packages (from langchain-community) (2.0.40)\n",
            "Requirement already satisfied: requests<3,>=2 in /usr/local/lib/python3.11/dist-packages (from langchain-community) (2.32.3)\n",
            "Requirement already satisfied: PyYAML>=5.3 in /usr/local/lib/python3.11/dist-packages (from langchain-community) (6.0.2)\n",
            "Requirement already satisfied: aiohttp<4.0.0,>=3.8.3 in /usr/local/lib/python3.11/dist-packages (from langchain-community) (3.11.15)\n",
            "Requirement already satisfied: tenacity!=8.4.0,<10,>=8.1.0 in /usr/local/lib/python3.11/dist-packages (from langchain-community) (9.1.2)\n",
            "Collecting dataclasses-json<0.7,>=0.5.7 (from langchain-community)\n",
            "  Downloading dataclasses_json-0.6.7-py3-none-any.whl.metadata (25 kB)\n",
            "Collecting pydantic-settings<3.0.0,>=2.4.0 (from langchain-community)\n",
            "  Downloading pydantic_settings-2.8.1-py3-none-any.whl.metadata (3.5 kB)\n",
            "Requirement already satisfied: langsmith<0.4,>=0.1.125 in /usr/local/lib/python3.11/dist-packages (from langchain-community) (0.3.24)\n",
            "Collecting httpx-sse<1.0.0,>=0.4.0 (from langchain-community)\n",
            "  Downloading httpx_sse-0.4.0-py3-none-any.whl.metadata (9.0 kB)\n",
            "Requirement already satisfied: numpy<3,>=1.26.2 in /usr/local/lib/python3.11/dist-packages (from langchain-community) (2.0.2)\n",
            "Collecting langgraph-checkpoint<3.0.0,>=2.0.10 (from langgraph)\n",
            "  Downloading langgraph_checkpoint-2.0.24-py3-none-any.whl.metadata (4.6 kB)\n",
            "Collecting langgraph-prebuilt<0.2,>=0.1.1 (from langgraph)\n",
            "  Downloading langgraph_prebuilt-0.1.8-py3-none-any.whl.metadata (5.0 kB)\n",
            "Collecting langgraph-sdk<0.2.0,>=0.1.42 (from langgraph)\n",
            "  Downloading langgraph_sdk-0.1.61-py3-none-any.whl.metadata (1.8 kB)\n",
            "Collecting xxhash<4.0.0,>=3.5.0 (from langgraph)\n",
            "  Downloading xxhash-3.5.0-cp311-cp311-manylinux_2_17_x86_64.manylinux2014_x86_64.whl.metadata (12 kB)\n",
            "Collecting anthropic<1,>=0.49.0 (from langchain-anthropic)\n",
            "  Downloading anthropic-0.49.0-py3-none-any.whl.metadata (24 kB)\n",
            "Requirement already satisfied: pydantic<3.0.0,>=2.7.4 in /usr/local/lib/python3.11/dist-packages (from langchain-anthropic) (2.11.2)\n",
            "Collecting tiktoken>=0.5.1 (from tavily-python)\n",
            "  Downloading tiktoken-0.9.0-cp311-cp311-manylinux_2_17_x86_64.manylinux2014_x86_64.whl.metadata (6.7 kB)\n",
            "Requirement already satisfied: httpx in /usr/local/lib/python3.11/dist-packages (from tavily-python) (0.28.1)\n",
            "Collecting aiosqlite<0.22,>=0.20 (from langgraph-checkpoint-sqlite)\n",
            "  Downloading aiosqlite-0.21.0-py3-none-any.whl.metadata (4.3 kB)\n",
            "Requirement already satisfied: aiohappyeyeballs>=2.3.0 in /usr/local/lib/python3.11/dist-packages (from aiohttp<4.0.0,>=3.8.3->langchain-community) (2.6.1)\n",
            "Requirement already satisfied: aiosignal>=1.1.2 in /usr/local/lib/python3.11/dist-packages (from aiohttp<4.0.0,>=3.8.3->langchain-community) (1.3.2)\n",
            "Requirement already satisfied: attrs>=17.3.0 in /usr/local/lib/python3.11/dist-packages (from aiohttp<4.0.0,>=3.8.3->langchain-community) (25.3.0)\n",
            "Requirement already satisfied: frozenlist>=1.1.1 in /usr/local/lib/python3.11/dist-packages (from aiohttp<4.0.0,>=3.8.3->langchain-community) (1.5.0)\n",
            "Requirement already satisfied: multidict<7.0,>=4.5 in /usr/local/lib/python3.11/dist-packages (from aiohttp<4.0.0,>=3.8.3->langchain-community) (6.3.2)\n",
            "Requirement already satisfied: propcache>=0.2.0 in /usr/local/lib/python3.11/dist-packages (from aiohttp<4.0.0,>=3.8.3->langchain-community) (0.3.1)\n",
            "Requirement already satisfied: yarl<2.0,>=1.17.0 in /usr/local/lib/python3.11/dist-packages (from aiohttp<4.0.0,>=3.8.3->langchain-community) (1.18.3)\n",
            "Requirement already satisfied: typing_extensions>=4.0 in /usr/local/lib/python3.11/dist-packages (from aiosqlite<0.22,>=0.20->langgraph-checkpoint-sqlite) (4.13.1)\n",
            "Requirement already satisfied: anyio<5,>=3.5.0 in /usr/local/lib/python3.11/dist-packages (from anthropic<1,>=0.49.0->langchain-anthropic) (4.9.0)\n",
            "Requirement already satisfied: distro<2,>=1.7.0 in /usr/local/lib/python3.11/dist-packages (from anthropic<1,>=0.49.0->langchain-anthropic) (1.9.0)\n",
            "Requirement already satisfied: jiter<1,>=0.4.0 in /usr/local/lib/python3.11/dist-packages (from anthropic<1,>=0.49.0->langchain-anthropic) (0.9.0)\n",
            "Requirement already satisfied: sniffio in /usr/local/lib/python3.11/dist-packages (from anthropic<1,>=0.49.0->langchain-anthropic) (1.3.1)\n",
            "Collecting marshmallow<4.0.0,>=3.18.0 (from dataclasses-json<0.7,>=0.5.7->langchain-community)\n",
            "  Downloading marshmallow-3.26.1-py3-none-any.whl.metadata (7.3 kB)\n",
            "Collecting typing-inspect<1,>=0.4.0 (from dataclasses-json<0.7,>=0.5.7->langchain-community)\n",
            "  Downloading typing_inspect-0.9.0-py3-none-any.whl.metadata (1.5 kB)\n",
            "Requirement already satisfied: certifi in /usr/local/lib/python3.11/dist-packages (from httpx->tavily-python) (2025.1.31)\n",
            "Requirement already satisfied: httpcore==1.* in /usr/local/lib/python3.11/dist-packages (from httpx->tavily-python) (1.0.7)\n",
            "Requirement already satisfied: idna in /usr/local/lib/python3.11/dist-packages (from httpx->tavily-python) (3.10)\n",
            "Requirement already satisfied: h11<0.15,>=0.13 in /usr/local/lib/python3.11/dist-packages (from httpcore==1.*->httpx->tavily-python) (0.14.0)\n",
            "Requirement already satisfied: langchain-text-splitters<1.0.0,>=0.3.8 in /usr/local/lib/python3.11/dist-packages (from langchain<1.0.0,>=0.3.23->langchain-community) (0.3.8)\n",
            "Requirement already satisfied: jsonpatch<2.0,>=1.33 in /usr/local/lib/python3.11/dist-packages (from langchain-core<1.0.0,>=0.3.51->langchain-community) (1.33)\n",
            "Requirement already satisfied: packaging<25,>=23.2 in /usr/local/lib/python3.11/dist-packages (from langchain-core<1.0.0,>=0.3.51->langchain-community) (24.2)\n",
            "Collecting ormsgpack<2.0.0,>=1.8.0 (from langgraph-checkpoint<3.0.0,>=2.0.10->langgraph)\n",
            "  Downloading ormsgpack-1.9.1-cp311-cp311-manylinux_2_17_x86_64.manylinux2014_x86_64.whl.metadata (43 kB)\n",
            "\u001b[2K     \u001b[90m━━━━━━━━━━━━━━━━━━━━━━━━━━━━━━━━━━━━━━━━\u001b[0m \u001b[32m43.5/43.5 kB\u001b[0m \u001b[31m2.7 MB/s\u001b[0m eta \u001b[36m0:00:00\u001b[0m\n",
            "\u001b[?25hRequirement already satisfied: orjson>=3.10.1 in /usr/local/lib/python3.11/dist-packages (from langgraph-sdk<0.2.0,>=0.1.42->langgraph) (3.10.16)\n",
            "Requirement already satisfied: requests-toolbelt<2.0.0,>=1.0.0 in /usr/local/lib/python3.11/dist-packages (from langsmith<0.4,>=0.1.125->langchain-community) (1.0.0)\n",
            "Requirement already satisfied: zstandard<0.24.0,>=0.23.0 in /usr/local/lib/python3.11/dist-packages (from langsmith<0.4,>=0.1.125->langchain-community) (0.23.0)\n",
            "Requirement already satisfied: annotated-types>=0.6.0 in /usr/local/lib/python3.11/dist-packages (from pydantic<3.0.0,>=2.7.4->langchain-anthropic) (0.7.0)\n",
            "Requirement already satisfied: pydantic-core==2.33.1 in /usr/local/lib/python3.11/dist-packages (from pydantic<3.0.0,>=2.7.4->langchain-anthropic) (2.33.1)\n",
            "Requirement already satisfied: typing-inspection>=0.4.0 in /usr/local/lib/python3.11/dist-packages (from pydantic<3.0.0,>=2.7.4->langchain-anthropic) (0.4.0)\n",
            "Collecting python-dotenv>=0.21.0 (from pydantic-settings<3.0.0,>=2.4.0->langchain-community)\n",
            "  Downloading python_dotenv-1.1.0-py3-none-any.whl.metadata (24 kB)\n",
            "Requirement already satisfied: charset-normalizer<4,>=2 in /usr/local/lib/python3.11/dist-packages (from requests<3,>=2->langchain-community) (3.4.1)\n",
            "Requirement already satisfied: urllib3<3,>=1.21.1 in /usr/local/lib/python3.11/dist-packages (from requests<3,>=2->langchain-community) (2.3.0)\n",
            "Requirement already satisfied: greenlet>=1 in /usr/local/lib/python3.11/dist-packages (from SQLAlchemy<3,>=1.4->langchain-community) (3.1.1)\n",
            "Requirement already satisfied: regex>=2022.1.18 in /usr/local/lib/python3.11/dist-packages (from tiktoken>=0.5.1->tavily-python) (2024.11.6)\n",
            "Requirement already satisfied: jsonpointer>=1.9 in /usr/local/lib/python3.11/dist-packages (from jsonpatch<2.0,>=1.33->langchain-core<1.0.0,>=0.3.51->langchain-community) (3.0.0)\n",
            "Requirement already satisfied: mypy-extensions>=0.3.0 in /usr/local/lib/python3.11/dist-packages (from typing-inspect<1,>=0.4.0->dataclasses-json<0.7,>=0.5.7->langchain-community) (1.0.0)\n",
            "Downloading langchain_community-0.3.21-py3-none-any.whl (2.5 MB)\n",
            "\u001b[2K   \u001b[90m━━━━━━━━━━━━━━━━━━━━━━━━━━━━━━━━━━━━━━━━\u001b[0m \u001b[32m2.5/2.5 MB\u001b[0m \u001b[31m34.9 MB/s\u001b[0m eta \u001b[36m0:00:00\u001b[0m\n",
            "\u001b[?25hDownloading langgraph-0.3.28-py3-none-any.whl (144 kB)\n",
            "\u001b[2K   \u001b[90m━━━━━━━━━━━━━━━━━━━━━━━━━━━━━━━━━━━━━━━━\u001b[0m \u001b[32m144.1/144.1 kB\u001b[0m \u001b[31m9.7 MB/s\u001b[0m eta \u001b[36m0:00:00\u001b[0m\n",
            "\u001b[?25hDownloading langchain_anthropic-0.3.10-py3-none-any.whl (25 kB)\n",
            "Downloading tavily_python-0.5.4-py3-none-any.whl (44 kB)\n",
            "\u001b[2K   \u001b[90m━━━━━━━━━━━━━━━━━━━━━━━━━━━━━━━━━━━━━━━━\u001b[0m \u001b[32m44.4/44.4 kB\u001b[0m \u001b[31m3.1 MB/s\u001b[0m eta \u001b[36m0:00:00\u001b[0m\n",
            "\u001b[?25hDownloading langgraph_checkpoint_sqlite-2.0.6-py3-none-any.whl (12 kB)\n",
            "Downloading aiosqlite-0.21.0-py3-none-any.whl (15 kB)\n",
            "Downloading anthropic-0.49.0-py3-none-any.whl (243 kB)\n",
            "\u001b[2K   \u001b[90m━━━━━━━━━━━━━━━━━━━━━━━━━━━━━━━━━━━━━━━━\u001b[0m \u001b[32m243.4/243.4 kB\u001b[0m \u001b[31m17.6 MB/s\u001b[0m eta \u001b[36m0:00:00\u001b[0m\n",
            "\u001b[?25hDownloading dataclasses_json-0.6.7-py3-none-any.whl (28 kB)\n",
            "Downloading httpx_sse-0.4.0-py3-none-any.whl (7.8 kB)\n",
            "Downloading langgraph_checkpoint-2.0.24-py3-none-any.whl (42 kB)\n",
            "\u001b[2K   \u001b[90m━━━━━━━━━━━━━━━━━━━━━━━━━━━━━━━━━━━━━━━━\u001b[0m \u001b[32m42.0/42.0 kB\u001b[0m \u001b[31m2.8 MB/s\u001b[0m eta \u001b[36m0:00:00\u001b[0m\n",
            "\u001b[?25hDownloading langgraph_prebuilt-0.1.8-py3-none-any.whl (25 kB)\n",
            "Downloading langgraph_sdk-0.1.61-py3-none-any.whl (47 kB)\n",
            "\u001b[2K   \u001b[90m━━━━━━━━━━━━━━━━━━━━━━━━━━━━━━━━━━━━━━━━\u001b[0m \u001b[32m47.2/47.2 kB\u001b[0m \u001b[31m2.9 MB/s\u001b[0m eta \u001b[36m0:00:00\u001b[0m\n",
            "\u001b[?25hDownloading pydantic_settings-2.8.1-py3-none-any.whl (30 kB)\n",
            "Downloading tiktoken-0.9.0-cp311-cp311-manylinux_2_17_x86_64.manylinux2014_x86_64.whl (1.2 MB)\n",
            "\u001b[2K   \u001b[90m━━━━━━━━━━━━━━━━━━━━━━━━━━━━━━━━━━━━━━━━\u001b[0m \u001b[32m1.2/1.2 MB\u001b[0m \u001b[31m44.0 MB/s\u001b[0m eta \u001b[36m0:00:00\u001b[0m\n",
            "\u001b[?25hDownloading xxhash-3.5.0-cp311-cp311-manylinux_2_17_x86_64.manylinux2014_x86_64.whl (194 kB)\n",
            "\u001b[2K   \u001b[90m━━━━━━━━━━━━━━━━━━━━━━━━━━━━━━━━━━━━━━━━\u001b[0m \u001b[32m194.8/194.8 kB\u001b[0m \u001b[31m12.1 MB/s\u001b[0m eta \u001b[36m0:00:00\u001b[0m\n",
            "\u001b[?25hDownloading marshmallow-3.26.1-py3-none-any.whl (50 kB)\n",
            "\u001b[2K   \u001b[90m━━━━━━━━━━━━━━━━━━━━━━━━━━━━━━━━━━━━━━━━\u001b[0m \u001b[32m50.9/50.9 kB\u001b[0m \u001b[31m2.8 MB/s\u001b[0m eta \u001b[36m0:00:00\u001b[0m\n",
            "\u001b[?25hDownloading ormsgpack-1.9.1-cp311-cp311-manylinux_2_17_x86_64.manylinux2014_x86_64.whl (223 kB)\n",
            "\u001b[2K   \u001b[90m━━━━━━━━━━━━━━━━━━━━━━━━━━━━━━━━━━━━━━━━\u001b[0m \u001b[32m223.6/223.6 kB\u001b[0m \u001b[31m14.8 MB/s\u001b[0m eta \u001b[36m0:00:00\u001b[0m\n",
            "\u001b[?25hDownloading python_dotenv-1.1.0-py3-none-any.whl (20 kB)\n",
            "Downloading typing_inspect-0.9.0-py3-none-any.whl (8.8 kB)\n",
            "Installing collected packages: xxhash, typing-inspect, python-dotenv, ormsgpack, marshmallow, httpx-sse, aiosqlite, tiktoken, dataclasses-json, tavily-python, pydantic-settings, langgraph-sdk, anthropic, langgraph-checkpoint, langchain-anthropic, langgraph-prebuilt, langgraph-checkpoint-sqlite, langgraph, langchain-community\n",
            "Successfully installed aiosqlite-0.21.0 anthropic-0.49.0 dataclasses-json-0.6.7 httpx-sse-0.4.0 langchain-anthropic-0.3.10 langchain-community-0.3.21 langgraph-0.3.28 langgraph-checkpoint-2.0.24 langgraph-checkpoint-sqlite-2.0.6 langgraph-prebuilt-0.1.8 langgraph-sdk-0.1.61 marshmallow-3.26.1 ormsgpack-1.9.1 pydantic-settings-2.8.1 python-dotenv-1.1.0 tavily-python-0.5.4 tiktoken-0.9.0 typing-inspect-0.9.0 xxhash-3.5.0\n"
          ]
        }
      ],
      "source": [
        "%pip install -U langchain-community langgraph langchain-anthropic tavily-python langgraph-checkpoint-sqlite"
      ]
    },
    {
      "cell_type": "code",
      "source": [
        "%pip install -qU langchain-tavily"
      ],
      "metadata": {
        "colab": {
          "base_uri": "https://localhost:8080/"
        },
        "id": "mE29t8_jgLH6",
        "outputId": "c05cbada-a056-442d-9b11-8ef5f67e8402"
      },
      "execution_count": 1,
      "outputs": [
        {
          "output_type": "stream",
          "name": "stdout",
          "text": [
            "\u001b[2K   \u001b[90m━━━━━━━━━━━━━━━━━━━━━━━━━━━━━━━━━━━━━━━━\u001b[0m \u001b[32m12.3/12.3 MB\u001b[0m \u001b[31m27.4 MB/s\u001b[0m eta \u001b[36m0:00:00\u001b[0m\n",
            "\u001b[?25h"
          ]
        }
      ]
    },
    {
      "cell_type": "code",
      "source": [
        "import getpass\n",
        "import os\n",
        "\n",
        "os.environ[\"TAVILY_API_KEY\"] = getpass.getpass()\n",
        "os.environ[\"MISTRAL_API_KEY\"] = getpass.getpass()"
      ],
      "metadata": {
        "colab": {
          "base_uri": "https://localhost:8080/"
        },
        "id": "GaIY7W6ignAS",
        "outputId": "50fa479a-6f9f-4e23-94d4-846dfdc9fefb"
      },
      "execution_count": 8,
      "outputs": [
        {
          "name": "stdout",
          "output_type": "stream",
          "text": [
            "··········\n",
            "··········\n"
          ]
        }
      ]
    },
    {
      "cell_type": "code",
      "source": [
        "from langchain_community.tools.tavily_search import TavilySearchResults\n",
        "\n",
        "search = TavilySearchResults(max_results=2)\n",
        "search_results = search.invoke(\"what is the weather in Seoul\")\n",
        "print(search_results)\n",
        "# If we want, we can create other tools.\n",
        "# Once we have all the tools we want, we can put them in a list that we will reference later.\n",
        "tools = [search]"
      ],
      "metadata": {
        "colab": {
          "base_uri": "https://localhost:8080/"
        },
        "id": "akZLVfJOg24S",
        "outputId": "0404499c-087b-4616-9802-370da36a7ce1"
      },
      "execution_count": 9,
      "outputs": [
        {
          "output_type": "stream",
          "name": "stdout",
          "text": [
            "[{'title': 'Weather in Seoul', 'url': 'https://www.weatherapi.com/', 'content': \"{'location': {'name': 'Seoul', 'region': '', 'country': 'South Korea', 'lat': 37.5664, 'lon': 126.9997, 'tz_id': 'Asia/Seoul', 'localtime_epoch': 1744335828, 'localtime': '2025-04-11 10:43'}, 'current': {'last_updated_epoch': 1744335000, 'last_updated': '2025-04-11 10:30', 'temp_c': 16.3, 'temp_f': 61.3, 'is_day': 1, 'condition': {'text': 'Sunny', 'icon': '//cdn.weatherapi.com/weather/64x64/day/113.png', 'code': 1000}, 'wind_mph': 2.2, 'wind_kph': 3.6, 'wind_degree': 119, 'wind_dir': 'ESE', 'pressure_mb': 1012.0, 'pressure_in': 29.88, 'precip_mm': 0.0, 'precip_in': 0.0, 'humidity': 51, 'cloud': 0, 'feelslike_c': 16.3, 'feelslike_f': 61.3, 'windchill_c': 16.2, 'windchill_f': 61.1, 'heatindex_c': 16.2, 'heatindex_f': 61.1, 'dewpoint_c': 3.9, 'dewpoint_f': 39.1, 'vis_km': 10.0, 'vis_miles': 6.0, 'uv': 3.5, 'gust_mph': 6.7, 'gust_kph': 10.8}}\", 'score': 0.9313066}, {'title': 'Seoul weather in April 2025 - Weather25.com', 'url': 'https://www.weather25.com/asia/south-korea/seoul?page=month&month=April', 'content': 'Location was added to My Locations\\nLocation was removed from My Locations\\nMarch\\nMay\\nSeoul weather in April 2025\\nThe temperatures in Seoul in April are quite cold with temperatures between 9°C and 15°C, warm clothes are a must.\\nYou can expect about 3 to 8 days of rain in Seoul during the month of April. It’s a good idea to bring along your umbrella so that you don’t get caught in poor weather.\\nOur weather forecast can give you a great sense of what weather to expect in Seoul in April 2025. [...] Temperatures\\n15° / 9°\\n\\nRainy Days\\n5\\n\\nSnowy Days\\n0\\n\\nDry Days\\n25\\n\\nRainfall\\n83\\nmm\\n\\nSun Hours\\n10.0\\nHrs\\nHistoric average weather for April\\n\\nApril [...] | Sun | Mon | Tue | Wed | Thu | Fri | Sat |\\n| --- | --- | --- | --- | --- | --- | --- |\\n| \\n | \\n| 1  19° /9° | 2  20° /10° | 3  18° /9° | 4  17° /10° | 5  16° /10° |\\n| 6  16° /10° | 7  17° /10° | 8  18° /10° | 9  19° /10° | 10  19° /11° | 11  20° /11° | 12  20° /11° |\\n| 13  18° /10° | 14  21° /11° | 15  19° /9° | 16  18° /10° | 17  18° /9° | 18  19° /11° | 19  23° /12° |\\n| 20  21° /12° | 21  22° /13° | 22  20° /14° | 23  21° /11° | 24  19° /11° | 25  20° /12° | 26  21° /13° |', 'score': 0.8934678}]\n"
          ]
        }
      ]
    },
    {
      "cell_type": "markdown",
      "source": [
        "## Using Language Models"
      ],
      "metadata": {
        "id": "s71FolQJjDtp"
      }
    },
    {
      "cell_type": "code",
      "source": [
        "pip install -qU \"langchain[mistralai]\""
      ],
      "metadata": {
        "id": "R6d2WXtPh77x"
      },
      "execution_count": 10,
      "outputs": []
    },
    {
      "cell_type": "code",
      "source": [
        "\n",
        "from langchain.chat_models import init_chat_model\n",
        "\n",
        "model = init_chat_model(\"mistral-large-latest\", model_provider=\"mistralai\")"
      ],
      "metadata": {
        "id": "5Y1cVz0UhPA5"
      },
      "execution_count": 11,
      "outputs": []
    },
    {
      "cell_type": "code",
      "source": [
        "from langchain_core.messages import HumanMessage\n",
        "\n",
        "response = model.invoke([HumanMessage(content=\"hi!\")])\n",
        "response.content"
      ],
      "metadata": {
        "colab": {
          "base_uri": "https://localhost:8080/",
          "height": 35
        },
        "id": "wP9Jj_OShTbL",
        "outputId": "8ceb1035-9ee8-4034-b48f-5f6b677c038a"
      },
      "execution_count": 12,
      "outputs": [
        {
          "output_type": "execute_result",
          "data": {
            "text/plain": [
              "\"Hello! How can I assist you today? Let's have a friendly conversation.  How are you doing?\""
            ],
            "application/vnd.google.colaboratory.intrinsic+json": {
              "type": "string"
            }
          },
          "metadata": {},
          "execution_count": 12
        }
      ]
    },
    {
      "cell_type": "markdown",
      "source": [
        "`.bind_tools` : llm에게 도구들에 대한 지식 전달\n",
        "\n",
        "\n",
        "```\n",
        "model_with_tools = model.bind_tools(tools)\n",
        "```\n",
        "\n"
      ],
      "metadata": {
        "id": "8t0lF6AtiMaS"
      }
    },
    {
      "cell_type": "code",
      "source": [
        "model_with_tools = model.bind_tools(tools)\n",
        "response = model_with_tools.invoke([HumanMessage(content=\"Hi!\")])\n",
        "\n",
        "print(f\"ContentString: {response.content}\")\n",
        "print(f\"ToolCalls: {response.tool_calls}\")"
      ],
      "metadata": {
        "colab": {
          "base_uri": "https://localhost:8080/"
        },
        "id": "BkIh-CjmiL7W",
        "outputId": "6a9760f6-89f1-46ca-84a7-3c66099b8e14"
      },
      "execution_count": 15,
      "outputs": [
        {
          "output_type": "stream",
          "name": "stdout",
          "text": [
            "ContentString: Hello! How can I assist you today?\n",
            "ToolCalls: []\n"
          ]
        }
      ]
    },
    {
      "cell_type": "code",
      "source": [
        "response = model_with_tools.invoke([HumanMessage(content=\"What's the weather in Seoul?\")])\n",
        "\n",
        "print(f\"ContentString: {response.content}\")\n",
        "print(f\"ToolCalls: {response.tool_calls}\")"
      ],
      "metadata": {
        "colab": {
          "base_uri": "https://localhost:8080/"
        },
        "id": "BR3J7f3Einvf",
        "outputId": "bbbb9d48-d30c-44fd-f478-f0f5aa0b07c8"
      },
      "execution_count": 16,
      "outputs": [
        {
          "output_type": "stream",
          "name": "stdout",
          "text": [
            "ContentString: \n",
            "ToolCalls: [{'name': 'tavily_search_results_json', 'args': {'query': 'weather in Seoul'}, 'id': 'BJMXEWRDa', 'type': 'tool_call'}]\n"
          ]
        }
      ]
    },
    {
      "cell_type": "markdown",
      "source": [
        "text content가 아닌 tool call이 출력됨.\n",
        "- Tavily Search tool을 호출하길 원함.\n",
        "- tool을 호출한 게 아니라 이 도구를 호출하라고 말해주는 형태.\n",
        "- 실제로 호출하려면 agent를 만들어야 함."
      ],
      "metadata": {
        "id": "lZOyfTfSivUd"
      }
    },
    {
      "cell_type": "markdown",
      "source": [
        "## Create the agent\n",
        "LangGraph로 agent를 구축한다.\n",
        "LLM과 tools를 초기화할 수 있는데, `create_react_agent`가 `.bind_tools` 를 호출하기 때문에 `model_with_tools`가 아닌 `model`을 전달한다."
      ],
      "metadata": {
        "id": "H7-DNIP1jHwO"
      }
    },
    {
      "cell_type": "code",
      "source": [
        "from langgraph.prebuilt import create_react_agent\n",
        "\n",
        "agent_executor = create_react_agent(model, tools)"
      ],
      "metadata": {
        "id": "Olr63csKjAWq"
      },
      "execution_count": 17,
      "outputs": []
    },
    {
      "cell_type": "markdown",
      "source": [
        "현재 모든 쿼리는 stateless. 이전 interaction을 기억하지 않는다. agent는 interaction의 final state를 반환한다."
      ],
      "metadata": {
        "id": "g3JQvz_fjwfk"
      }
    },
    {
      "cell_type": "code",
      "source": [
        "response = agent_executor.invoke({\"messages\": [HumanMessage(content=\"hi!\")]})\n",
        "\n",
        "response[\"messages\"]"
      ],
      "metadata": {
        "colab": {
          "base_uri": "https://localhost:8080/"
        },
        "id": "dqlRHm9ejpk_",
        "outputId": "335cca87-5c1e-4d16-9a7c-27373d70895e"
      },
      "execution_count": 18,
      "outputs": [
        {
          "output_type": "execute_result",
          "data": {
            "text/plain": [
              "[HumanMessage(content='hi!', additional_kwargs={}, response_metadata={}, id='f3ccf0e7-2f22-40e6-a8ee-089d1e9a2c3c'),\n",
              " AIMessage(content='Hello! How can I assist you today?', additional_kwargs={}, response_metadata={'token_usage': {'prompt_tokens': 109, 'total_tokens': 119, 'completion_tokens': 10}, 'model_name': 'mistral-large-latest', 'model': 'mistral-large-latest', 'finish_reason': 'stop'}, id='run-12c82a88-89ad-475e-9f61-904e5c6e72de-0', usage_metadata={'input_tokens': 109, 'output_tokens': 10, 'total_tokens': 119})]"
            ]
          },
          "metadata": {},
          "execution_count": 18
        }
      ]
    },
    {
      "cell_type": "code",
      "source": [
        "response = agent_executor.invoke(\n",
        "    {\"messages\": [HumanMessage(content=\"whats the weather in seoul?\")]}\n",
        ")\n",
        "response[\"messages\"]"
      ],
      "metadata": {
        "colab": {
          "base_uri": "https://localhost:8080/"
        },
        "id": "Tn9yruwIkAE_",
        "outputId": "24281964-70f4-4d25-f904-d991e08733fd"
      },
      "execution_count": 21,
      "outputs": [
        {
          "output_type": "execute_result",
          "data": {
            "text/plain": [
              "[HumanMessage(content='whats the weather in seoul?', additional_kwargs={}, response_metadata={}, id='6c94bbb1-1615-4fea-b004-f3f235881d4d'),\n",
              " AIMessage(content='', additional_kwargs={'tool_calls': [{'id': 'n1tCV6Xu4', 'function': {'name': 'tavily_search_results_json', 'arguments': '{\"query\": \"weather in seoul\"}'}, 'index': 0}]}, response_metadata={'token_usage': {'prompt_tokens': 115, 'total_tokens': 147, 'completion_tokens': 32}, 'model_name': 'mistral-large-latest', 'model': 'mistral-large-latest', 'finish_reason': 'tool_calls'}, id='run-6a500b1b-0ba0-42ef-82d8-85130f6d1d7d-0', tool_calls=[{'name': 'tavily_search_results_json', 'args': {'query': 'weather in seoul'}, 'id': 'n1tCV6Xu4', 'type': 'tool_call'}], usage_metadata={'input_tokens': 115, 'output_tokens': 32, 'total_tokens': 147}),\n",
              " ToolMessage(content='[{\"title\": \"Weather in seoul\", \"url\": \"https://www.weatherapi.com/\", \"content\": \"{\\'location\\': {\\'name\\': \\'Seoul\\', \\'region\\': \\'\\', \\'country\\': \\'South Korea\\', \\'lat\\': 37.5664, \\'lon\\': 126.9997, \\'tz_id\\': \\'Asia/Seoul\\', \\'localtime_epoch\\': 1744336586, \\'localtime\\': \\'2025-04-11 10:56\\'}, \\'current\\': {\\'last_updated_epoch\\': 1744335900, \\'last_updated\\': \\'2025-04-11 10:45\\', \\'temp_c\\': 16.0, \\'temp_f\\': 60.8, \\'is_day\\': 1, \\'condition\\': {\\'text\\': \\'Sunny\\', \\'icon\\': \\'//cdn.weatherapi.com/weather/64x64/day/113.png\\', \\'code\\': 1000}, \\'wind_mph\\': 2.2, \\'wind_kph\\': 3.6, \\'wind_degree\\': 119, \\'wind_dir\\': \\'ESE\\', \\'pressure_mb\\': 1012.0, \\'pressure_in\\': 29.88, \\'precip_mm\\': 0.0, \\'precip_in\\': 0.0, \\'humidity\\': 51, \\'cloud\\': 0, \\'feelslike_c\\': 16.0, \\'feelslike_f\\': 60.8, \\'windchill_c\\': 16.2, \\'windchill_f\\': 61.1, \\'heatindex_c\\': 16.2, \\'heatindex_f\\': 61.1, \\'dewpoint_c\\': 3.9, \\'dewpoint_f\\': 39.1, \\'vis_km\\': 10.0, \\'vis_miles\\': 6.0, \\'uv\\': 3.5, \\'gust_mph\\': 6.7, \\'gust_kph\\': 10.8}}\", \"score\": 0.9711882}, {\"title\": \"Seoul weather in April 2025 - Weather25.com\", \"url\": \"https://www.weather25.com/asia/south-korea/seoul?page=month&month=April\", \"content\": \"Location was added to My Locations\\\\nLocation was removed from My Locations\\\\nMarch\\\\nMay\\\\nSeoul weather in April 2025\\\\nThe temperatures in Seoul in April are quite cold with temperatures between 9°C and 15°C, warm clothes are a must.\\\\nYou can expect about 3 to 8 days of rain in Seoul during the month of April. It’s a good idea to bring along your umbrella so that you don’t get caught in poor weather.\\\\nOur weather forecast can give you a great sense of what weather to expect in Seoul in April 2025. [...] Temperatures\\\\n15° / 9°\\\\n\\\\nRainy Days\\\\n5\\\\n\\\\nSnowy Days\\\\n0\\\\n\\\\nDry Days\\\\n25\\\\n\\\\nRainfall\\\\n83\\\\nmm\\\\n\\\\nSun Hours\\\\n10.0\\\\nHrs\\\\nHistoric average weather for April\\\\n\\\\nApril [...] | Seoul in January |\\\\n| February | 4° / -1° | 2 | 22 | 4 | 35 mm | \\\\nAwful\\\\n| Seoul in February |\\\\n| March | 10° / 4° | 3 | 26 | 2 | 59 mm | \\\\nBad\\\\n| Seoul in March |\\\\n| April | 15° / 9° | 5 | 25 | 0 | 83 mm | \\\\nGood\\\\n| Seoul in April |\\\\n| May | 21° / 14° | 5 | 26 | 0 | 119 mm | \\\\nGood\\\\n| Seoul in May |\\\\n| June | 25° / 19° | 5 | 25 | 0 | 138 mm | \\\\nPerfect\\\\n| Seoul in June |\\\\n| July | 28° / 23° | 11 | 20 | 0 | 438 mm | \\\\nGood\\\\n| Seoul in July |\\\\n| August | 29° / 24° | 10 | 21 | 0 | 325 mm | \\\\nOk\", \"score\": 0.898277}]', name='tavily_search_results_json', id='c2573533-bb52-4a6d-9826-5d2bd5bb2910', tool_call_id='n1tCV6Xu4', artifact={'query': 'weather in seoul', 'follow_up_questions': None, 'answer': None, 'images': [], 'results': [{'title': 'Weather in seoul', 'url': 'https://www.weatherapi.com/', 'content': \"{'location': {'name': 'Seoul', 'region': '', 'country': 'South Korea', 'lat': 37.5664, 'lon': 126.9997, 'tz_id': 'Asia/Seoul', 'localtime_epoch': 1744336586, 'localtime': '2025-04-11 10:56'}, 'current': {'last_updated_epoch': 1744335900, 'last_updated': '2025-04-11 10:45', 'temp_c': 16.0, 'temp_f': 60.8, 'is_day': 1, 'condition': {'text': 'Sunny', 'icon': '//cdn.weatherapi.com/weather/64x64/day/113.png', 'code': 1000}, 'wind_mph': 2.2, 'wind_kph': 3.6, 'wind_degree': 119, 'wind_dir': 'ESE', 'pressure_mb': 1012.0, 'pressure_in': 29.88, 'precip_mm': 0.0, 'precip_in': 0.0, 'humidity': 51, 'cloud': 0, 'feelslike_c': 16.0, 'feelslike_f': 60.8, 'windchill_c': 16.2, 'windchill_f': 61.1, 'heatindex_c': 16.2, 'heatindex_f': 61.1, 'dewpoint_c': 3.9, 'dewpoint_f': 39.1, 'vis_km': 10.0, 'vis_miles': 6.0, 'uv': 3.5, 'gust_mph': 6.7, 'gust_kph': 10.8}}\", 'score': 0.9711882, 'raw_content': None}, {'url': 'https://www.weather25.com/asia/south-korea/seoul?page=month&month=April', 'title': 'Seoul weather in April 2025 - Weather25.com', 'content': 'Location was added to My Locations\\nLocation was removed from My Locations\\nMarch\\nMay\\nSeoul weather in April 2025\\nThe temperatures in Seoul in April are quite cold with temperatures between 9°C and 15°C, warm clothes are a must.\\nYou can expect about 3 to 8 days of rain in Seoul during the month of April. It’s a good idea to bring along your umbrella so that you don’t get caught in poor weather.\\nOur weather forecast can give you a great sense of what weather to expect in Seoul in April 2025. [...] Temperatures\\n15° / 9°\\n\\nRainy Days\\n5\\n\\nSnowy Days\\n0\\n\\nDry Days\\n25\\n\\nRainfall\\n83\\nmm\\n\\nSun Hours\\n10.0\\nHrs\\nHistoric average weather for April\\n\\nApril [...] | Seoul in January |\\n| February | 4° / -1° | 2 | 22 | 4 | 35 mm | \\nAwful\\n| Seoul in February |\\n| March | 10° / 4° | 3 | 26 | 2 | 59 mm | \\nBad\\n| Seoul in March |\\n| April | 15° / 9° | 5 | 25 | 0 | 83 mm | \\nGood\\n| Seoul in April |\\n| May | 21° / 14° | 5 | 26 | 0 | 119 mm | \\nGood\\n| Seoul in May |\\n| June | 25° / 19° | 5 | 25 | 0 | 138 mm | \\nPerfect\\n| Seoul in June |\\n| July | 28° / 23° | 11 | 20 | 0 | 438 mm | \\nGood\\n| Seoul in July |\\n| August | 29° / 24° | 10 | 21 | 0 | 325 mm | \\nOk', 'score': 0.898277, 'raw_content': None}], 'response_time': 1.4}),\n",
              " AIMessage(content=\"The current weather in Seoul is sunny with a temperature of 16.0°C (60.8°F). The humidity is 51%, and the wind is blowing at 3.6 km/h from the ESE direction. The UV index is 3.5, and the visibility is 10.0 km.\\n\\nFor April 2025, the temperatures in Seoul are expected to range between 9°C and 15°C, with about 3 to 8 days of rain throughout the month. It's advisable to bring warm clothes and an umbrella to be prepared for the weather.\", additional_kwargs={}, response_metadata={'token_usage': {'prompt_tokens': 1291, 'total_tokens': 1433, 'completion_tokens': 142}, 'model_name': 'mistral-large-latest', 'model': 'mistral-large-latest', 'finish_reason': 'stop'}, id='run-62c8ea6a-5644-41a6-aae6-d97377f05072-0', usage_metadata={'input_tokens': 1291, 'output_tokens': 142, 'total_tokens': 1433})]"
            ]
          },
          "metadata": {},
          "execution_count": 21
        }
      ]
    },
    {
      "cell_type": "markdown",
      "source": [
        "## Streaming Messages\n",
        "`invoke`로 agent가 호출되었을 때 최종 응답을 얻는 것을 확인했다. 이때 agent가 실행하는 여러 단계들에 의해 일정 시간이 소요된다. 중간에 어떤 과정이 이뤄지는지 스트리밍으로 바로바로 확인할 수 있다."
      ],
      "metadata": {
        "id": "k-UdEA1MkqKj"
      }
    },
    {
      "cell_type": "code",
      "source": [
        "for step in agent_executor.stream(\n",
        "    {\"messages\": [HumanMessage(content=\"whats the weather in seoul?\")]},\n",
        "    stream_mode=\"values\",\n",
        "):\n",
        "    step[\"messages\"][-1].pretty_print()"
      ],
      "metadata": {
        "colab": {
          "base_uri": "https://localhost:8080/"
        },
        "id": "vmR_pfINkpYw",
        "outputId": "c4cf3c6b-2065-48b4-b09b-01c7016aa572"
      },
      "execution_count": 23,
      "outputs": [
        {
          "output_type": "stream",
          "name": "stdout",
          "text": [
            "================================\u001b[1m Human Message \u001b[0m=================================\n",
            "\n",
            "whats the weather in seoul?\n",
            "==================================\u001b[1m Ai Message \u001b[0m==================================\n",
            "Tool Calls:\n",
            "  tavily_search_results_json (AWekzbwcS)\n",
            " Call ID: AWekzbwcS\n",
            "  Args:\n",
            "    query: weather in seoul\n",
            "=================================\u001b[1m Tool Message \u001b[0m=================================\n",
            "Name: tavily_search_results_json\n",
            "\n",
            "[{\"title\": \"Weather in seoul\", \"url\": \"https://www.weatherapi.com/\", \"content\": \"{'location': {'name': 'Seoul', 'region': '', 'country': 'South Korea', 'lat': 37.5664, 'lon': 126.9997, 'tz_id': 'Asia/Seoul', 'localtime_epoch': 1744336586, 'localtime': '2025-04-11 10:56'}, 'current': {'last_updated_epoch': 1744335900, 'last_updated': '2025-04-11 10:45', 'temp_c': 16.0, 'temp_f': 60.8, 'is_day': 1, 'condition': {'text': 'Sunny', 'icon': '//cdn.weatherapi.com/weather/64x64/day/113.png', 'code': 1000}, 'wind_mph': 2.2, 'wind_kph': 3.6, 'wind_degree': 119, 'wind_dir': 'ESE', 'pressure_mb': 1012.0, 'pressure_in': 29.88, 'precip_mm': 0.0, 'precip_in': 0.0, 'humidity': 51, 'cloud': 0, 'feelslike_c': 16.0, 'feelslike_f': 60.8, 'windchill_c': 16.2, 'windchill_f': 61.1, 'heatindex_c': 16.2, 'heatindex_f': 61.1, 'dewpoint_c': 3.9, 'dewpoint_f': 39.1, 'vis_km': 10.0, 'vis_miles': 6.0, 'uv': 3.5, 'gust_mph': 6.7, 'gust_kph': 10.8}}\", \"score\": 0.9711882}, {\"title\": \"Seoul weather in April 2025 - Weather25.com\", \"url\": \"https://www.weather25.com/asia/south-korea/seoul?page=month&month=April\", \"content\": \"Location was added to My Locations\\nLocation was removed from My Locations\\nMarch\\nMay\\nSeoul weather in April 2025\\nThe temperatures in Seoul in April are quite cold with temperatures between 9°C and 15°C, warm clothes are a must.\\nYou can expect about 3 to 8 days of rain in Seoul during the month of April. It’s a good idea to bring along your umbrella so that you don’t get caught in poor weather.\\nOur weather forecast can give you a great sense of what weather to expect in Seoul in April 2025. [...] Temperatures\\n15° / 9°\\n\\nRainy Days\\n5\\n\\nSnowy Days\\n0\\n\\nDry Days\\n25\\n\\nRainfall\\n83\\nmm\\n\\nSun Hours\\n10.0\\nHrs\\nHistoric average weather for April\\n\\nApril [...] | Seoul in January |\\n| February | 4° / -1° | 2 | 22 | 4 | 35 mm | \\nAwful\\n| Seoul in February |\\n| March | 10° / 4° | 3 | 26 | 2 | 59 mm | \\nBad\\n| Seoul in March |\\n| April | 15° / 9° | 5 | 25 | 0 | 83 mm | \\nGood\\n| Seoul in April |\\n| May | 21° / 14° | 5 | 26 | 0 | 119 mm | \\nGood\\n| Seoul in May |\\n| June | 25° / 19° | 5 | 25 | 0 | 138 mm | \\nPerfect\\n| Seoul in June |\\n| July | 28° / 23° | 11 | 20 | 0 | 438 mm | \\nGood\\n| Seoul in July |\\n| August | 29° / 24° | 10 | 21 | 0 | 325 mm | \\nOk\", \"score\": 0.898277}]\n",
            "==================================\u001b[1m Ai Message \u001b[0m==================================\n",
            "\n",
            "The current weather in Seoul is sunny with a temperature of 16°C (60.8°F). The humidity is at 51%, and the wind is blowing from the east-southeast at 3.6 km/h. The UV index is 3.5, and there is no precipitation at the moment.\n",
            "\n",
            "For April 2025, Seoul typically experiences temperatures ranging from 9°C to 15°C. You can expect about 3 to 8 days of rain throughout the month, so it's a good idea to bring an umbrella. The weather forecast indicates that April in Seoul is generally good with 25 dry days and no snowy days expected.\n"
          ]
        }
      ]
    },
    {
      "cell_type": "markdown",
      "source": [
        "## Streaming tokens\n",
        "메시지를 스트리밍하는 것뿐만 아니라, 토큰을 스트리밍하는 것도 유용하다. 이를 위해 `stream_mode=\"messages\"`를 지정해주면 된다."
      ],
      "metadata": {
        "id": "B-cyXMjOlXEw"
      }
    },
    {
      "cell_type": "code",
      "source": [
        "for step, metadata in agent_executor.stream(\n",
        "    {\"messages\": [HumanMessage(content=\"whats the weather in seoul?\")]},\n",
        "    stream_mode=\"messages\",\n",
        "):\n",
        "    if metadata[\"langgraph_node\"] == \"agent\" and (text := step.text()):\n",
        "        print(text, end=\"|\")"
      ],
      "metadata": {
        "colab": {
          "base_uri": "https://localhost:8080/"
        },
        "id": "YImJH1xmljlZ",
        "outputId": "b975b4ec-a301-476a-ad87-0f80a7f56662"
      },
      "execution_count": 24,
      "outputs": [
        {
          "output_type": "stream",
          "name": "stdout",
          "text": [
            "The| current| weather| in| Se|oul| is| sun|ny| with| a| temperature| of| |1|6|.|0|°|C| (|6|0|.|8|°|F|).| The| wind| is| blowing| at| a| speed| of| |3|.|6| km|/|h| from| the| east|-|s|out|heast|,| and| the| hum|idity| is| at| |5|1|%.| There| is| no| precip|itation|,| and| the| visibility| is| clear| at| |1|0|.|0| km|.| The| UV| index| is| at| |3|.|5|,| indicating| moderate| levels| of| UV| radiation| |.|\n",
            "|\n",
            "|For| April| |2|0|2|5|,| the| temperatures| in| Se|oul| are| expected| to| range| between| |9|°|C| and| |1|5|°|C|,| with| about| |3| to| |8| days| of| rain| throughout| the| month|.| It|'|s| advis|able| to| bring| warm| clothes| and| an| u|mbre|lla| to| prepare| for| the| weather| |.|"
          ]
        }
      ]
    },
    {
      "cell_type": "markdown",
      "source": [
        "## Memory에 저장하기\n",
        "stateless agent는 이전 interaction들을 기억하지 않는다. memory 기능을 부여하기 위해서는 checkpointer를 전달해야 한다.\n",
        "- `thread_id` : 체크 포인터를 전달할 때, thread_id를 전달하면서 agent를 호출해야 한다.\n",
        "- 어떤 대화(스레드)를 이어서 수행해야 하는지 알 수 있도록 한다."
      ],
      "metadata": {
        "id": "O-cXfz0mls3k"
      }
    },
    {
      "cell_type": "code",
      "source": [
        "from langgraph.checkpoint.memory import MemorySaver\n",
        "\n",
        "memory = MemorySaver()"
      ],
      "metadata": {
        "id": "tzvTkFD8nK3M"
      },
      "execution_count": 25,
      "outputs": []
    },
    {
      "cell_type": "markdown",
      "source": [
        "### MemorySaver\n",
        "LangGraph의 Checkpointers 라이브러리.\n"
      ],
      "metadata": {
        "id": "tZc88fkQoW3Y"
      }
    },
    {
      "cell_type": "code",
      "source": [
        "agent_executor = create_react_agent(model, tools, checkpointer=memory)\n",
        "\n",
        "config = {\"configurable\": {\"thread_id\": \"abc123\"}}"
      ],
      "metadata": {
        "id": "cPYnuocCnM-i"
      },
      "execution_count": 26,
      "outputs": []
    },
    {
      "cell_type": "code",
      "source": [
        "for chunk in agent_executor.stream(\n",
        "    {\"messages\": [HumanMessage(content=\"hi im dabin!\")]}, config\n",
        "):\n",
        "    print(chunk)\n",
        "    print(\"----\")"
      ],
      "metadata": {
        "colab": {
          "base_uri": "https://localhost:8080/"
        },
        "id": "c4uhtNqTnQi5",
        "outputId": "7e1112e4-33ff-4163-f546-5c181d5c28b6"
      },
      "execution_count": 27,
      "outputs": [
        {
          "output_type": "stream",
          "name": "stdout",
          "text": [
            "{'agent': {'messages': [AIMessage(content='Hello Dabin! How can I assist you today?', additional_kwargs={}, response_metadata={'token_usage': {'prompt_tokens': 113, 'total_tokens': 126, 'completion_tokens': 13}, 'model_name': 'mistral-large-latest', 'model': 'mistral-large-latest', 'finish_reason': 'stop'}, id='run-0b499f1e-89b2-4a1c-aff3-61bbeb1c412a-0', usage_metadata={'input_tokens': 113, 'output_tokens': 13, 'total_tokens': 126})]}}\n",
            "----\n"
          ]
        }
      ]
    },
    {
      "cell_type": "code",
      "source": [
        "for chunk in agent_executor.stream(\n",
        "    {\"messages\": [HumanMessage(content=\"whats my name?\")]}, config\n",
        "):\n",
        "    print(chunk)\n",
        "    print(\"----\")"
      ],
      "metadata": {
        "colab": {
          "base_uri": "https://localhost:8080/"
        },
        "id": "ZfR4sRRJnTyI",
        "outputId": "a63f69df-2bfa-4eee-a781-953d22cac180"
      },
      "execution_count": 28,
      "outputs": [
        {
          "output_type": "stream",
          "name": "stdout",
          "text": [
            "{'agent': {'messages': [AIMessage(content='You said your name is Dabin! Is that correct?', additional_kwargs={}, response_metadata={'token_usage': {'prompt_tokens': 133, 'total_tokens': 147, 'completion_tokens': 14}, 'model_name': 'mistral-large-latest', 'model': 'mistral-large-latest', 'finish_reason': 'stop'}, id='run-cc529430-3464-4abb-b3e6-dd4d29ae5bf4-0', usage_metadata={'input_tokens': 133, 'output_tokens': 14, 'total_tokens': 147})]}}\n",
            "----\n"
          ]
        }
      ]
    },
    {
      "cell_type": "markdown",
      "source": [
        "thread_id를 수정하면 새로운 대화를 시작할 수 있다."
      ],
      "metadata": {
        "id": "iehaKurKoIa9"
      }
    },
    {
      "cell_type": "code",
      "source": [
        "config = {\"configurable\": {\"thread_id\": \"xyz123\"}}\n",
        "for chunk in agent_executor.stream(\n",
        "    {\"messages\": [HumanMessage(content=\"whats my name?\")]}, config\n",
        "):\n",
        "    print(chunk)\n",
        "    print(\"----\")"
      ],
      "metadata": {
        "colab": {
          "base_uri": "https://localhost:8080/"
        },
        "id": "hAEssfGjoGQF",
        "outputId": "dd3f2374-ba55-439d-e98c-0ad355f83e99"
      },
      "execution_count": 29,
      "outputs": [
        {
          "output_type": "stream",
          "name": "stdout",
          "text": [
            "{'agent': {'messages': [AIMessage(content=\"I don't have access to personal information about you, including your name. If you have any other questions or need assistance with something else, feel free to ask!\", additional_kwargs={}, response_metadata={'token_usage': {'prompt_tokens': 112, 'total_tokens': 147, 'completion_tokens': 35}, 'model_name': 'mistral-large-latest', 'model': 'mistral-large-latest', 'finish_reason': 'stop'}, id='run-bcc3019c-3060-4aa1-a795-7181085712b0-0', usage_metadata={'input_tokens': 112, 'output_tokens': 35, 'total_tokens': 147})]}}\n",
            "----\n"
          ]
        }
      ]
    }
  ]
}